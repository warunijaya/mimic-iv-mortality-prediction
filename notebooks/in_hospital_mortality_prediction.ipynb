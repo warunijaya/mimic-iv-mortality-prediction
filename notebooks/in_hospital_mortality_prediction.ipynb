{
 "cells": [
  {
   "cell_type": "markdown",
   "id": "00c80bd2-f3a1-4d28-8bc8-922798e29017",
   "metadata": {
    "tags": []
   },
   "source": [
    "# Models"
   ]
  },
  {
   "cell_type": "code",
   "execution_count": 1,
   "id": "daffa91f-baeb-4966-a7e9-2440acc4773d",
   "metadata": {
    "tags": []
   },
   "outputs": [],
   "source": [
    "import os\n",
    "import pandas as pd\n",
    "import numpy as np\n",
    "import matplotlib.pyplot as plt\n",
    "import seaborn as sns\n",
    "from sklearn.model_selection import train_test_split\n",
    "from sklearn.linear_model import LogisticRegression\n",
    "from sklearn.ensemble import RandomForestClassifier\n",
    "from lightgbm import LGBMClassifier\n",
    "import torch\n",
    "import torch.nn as nn\n",
    "import torch.optim as optim\n",
    "from sklearn.metrics import classification_report, roc_auc_score"
   ]
  },
  {
   "cell_type": "code",
   "execution_count": 2,
   "id": "e9de59a3-278c-43e6-9067-884eb102a489",
   "metadata": {
    "tags": []
   },
   "outputs": [],
   "source": [
    "# Set file paths\n",
    "data_path = '../data/'\n",
    "admissions_file = os.path.join(data_path, 'hosp/admissions.csv.gz')\n",
    "patients_file = os.path.join(data_path, 'hosp/patients.csv.gz')\n",
    "transfers_file = os.path.join(data_path, 'hosp/transfers.csv.gz')\n",
    "#labs_file = os.path.join(data_path, 'hosp/labevents.csv.gz')\n",
    "procedures_file = os.path.join(data_path, 'hosp/procedures_icd.csv.gz')\n",
    "#prescriptions_file = os.path.join(data_path, 'hosp/prescriptions.csv.gz')"
   ]
  },
  {
   "cell_type": "code",
   "execution_count": 3,
   "id": "51e55f18-5617-45e4-a078-f8b9f40b0193",
   "metadata": {
    "tags": []
   },
   "outputs": [],
   "source": [
    "# Load datasets\n",
    "admissions = pd.read_csv(admissions_file, compression='gzip')\n",
    "patients = pd.read_csv(patients_file, compression='gzip')\n",
    "transfers = pd.read_csv(transfers_file, compression='gzip')\n",
    "#labs = pd.read_csv(labs_file, compression='gzip')\n",
    "procedures = pd.read_csv(procedures_file, compression='gzip')\n",
    "#prescriptions = pd.read_csv(prescriptions_file, compression='gzip')"
   ]
  },
  {
   "cell_type": "code",
   "execution_count": 7,
   "id": "f8da832b-112a-4d0b-b5b4-509526813023",
   "metadata": {},
   "outputs": [
    {
     "name": "stdout",
     "output_type": "stream",
     "text": [
      "<class 'pandas.core.frame.DataFrame'>\n",
      "RangeIndex: 546028 entries, 0 to 546027\n",
      "Data columns (total 16 columns):\n",
      " #   Column                Non-Null Count   Dtype \n",
      "---  ------                --------------   ----- \n",
      " 0   subject_id            546028 non-null  int64 \n",
      " 1   hadm_id               546028 non-null  int64 \n",
      " 2   admittime             546028 non-null  object\n",
      " 3   dischtime             546028 non-null  object\n",
      " 4   deathtime             11790 non-null   object\n",
      " 5   admission_type        546028 non-null  object\n",
      " 6   admit_provider_id     546024 non-null  object\n",
      " 7   admission_location    546027 non-null  object\n",
      " 8   discharge_location    396210 non-null  object\n",
      " 9   insurance             536673 non-null  object\n",
      " 10  language              545253 non-null  object\n",
      " 11  marital_status        532409 non-null  object\n",
      " 12  race                  546028 non-null  object\n",
      " 13  edregtime             379240 non-null  object\n",
      " 14  edouttime             379240 non-null  object\n",
      " 15  hospital_expire_flag  546028 non-null  int64 \n",
      "dtypes: int64(3), object(13)\n",
      "memory usage: 66.7+ MB\n"
     ]
    }
   ],
   "source": [
    "admissions.info()"
   ]
  },
  {
   "cell_type": "code",
   "execution_count": 8,
   "id": "92173cba-2395-46c8-98b6-5e9e81b38784",
   "metadata": {},
   "outputs": [
    {
     "name": "stdout",
     "output_type": "stream",
     "text": [
      "<class 'pandas.core.frame.DataFrame'>\n",
      "RangeIndex: 364627 entries, 0 to 364626\n",
      "Data columns (total 6 columns):\n",
      " #   Column             Non-Null Count   Dtype \n",
      "---  ------             --------------   ----- \n",
      " 0   subject_id         364627 non-null  int64 \n",
      " 1   gender             364627 non-null  object\n",
      " 2   anchor_age         364627 non-null  int64 \n",
      " 3   anchor_year        364627 non-null  int64 \n",
      " 4   anchor_year_group  364627 non-null  object\n",
      " 5   dod                38301 non-null   object\n",
      "dtypes: int64(3), object(3)\n",
      "memory usage: 16.7+ MB\n"
     ]
    }
   ],
   "source": [
    "patients.info()"
   ]
  },
  {
   "cell_type": "code",
   "execution_count": 5,
   "id": "ed76e3ab-a101-46b4-8bac-c2fc189e1c32",
   "metadata": {},
   "outputs": [
    {
     "name": "stdout",
     "output_type": "stream",
     "text": [
      "<class 'pandas.core.frame.DataFrame'>\n",
      "RangeIndex: 2413581 entries, 0 to 2413580\n",
      "Data columns (total 7 columns):\n",
      " #   Column       Dtype  \n",
      "---  ------       -----  \n",
      " 0   subject_id   int64  \n",
      " 1   hadm_id      float64\n",
      " 2   transfer_id  int64  \n",
      " 3   eventtype    object \n",
      " 4   careunit     object \n",
      " 5   intime       object \n",
      " 6   outtime      object \n",
      "dtypes: float64(1), int64(2), object(4)\n",
      "memory usage: 128.9+ MB\n"
     ]
    }
   ],
   "source": [
    "transfers.info()"
   ]
  },
  {
   "cell_type": "code",
   "execution_count": 6,
   "id": "446327c6-d20b-4199-8781-6fc2160956d1",
   "metadata": {},
   "outputs": [
    {
     "name": "stdout",
     "output_type": "stream",
     "text": [
      "<class 'pandas.core.frame.DataFrame'>\n",
      "RangeIndex: 859655 entries, 0 to 859654\n",
      "Data columns (total 6 columns):\n",
      " #   Column       Non-Null Count   Dtype \n",
      "---  ------       --------------   ----- \n",
      " 0   subject_id   859655 non-null  int64 \n",
      " 1   hadm_id      859655 non-null  int64 \n",
      " 2   seq_num      859655 non-null  int64 \n",
      " 3   chartdate    859655 non-null  object\n",
      " 4   icd_code     859655 non-null  object\n",
      " 5   icd_version  859655 non-null  int64 \n",
      "dtypes: int64(4), object(2)\n",
      "memory usage: 39.4+ MB\n"
     ]
    }
   ],
   "source": [
    "procedures.info()"
   ]
  },
  {
   "cell_type": "code",
   "execution_count": 10,
   "id": "fb3436b9-c0a6-49fa-8ba3-16d29ec77d09",
   "metadata": {},
   "outputs": [
    {
     "data": {
      "text/plain": [
       "False    2004604\n",
       "True      408977\n",
       "Name: hadm_id, dtype: int64"
      ]
     },
     "execution_count": 10,
     "metadata": {},
     "output_type": "execute_result"
    }
   ],
   "source": [
    "transfers.hadm_id.isnull().value_counts()"
   ]
  },
  {
   "cell_type": "code",
   "execution_count": 4,
   "id": "6e390502-2d7d-43a7-bc6b-50466b56351e",
   "metadata": {
    "tags": []
   },
   "outputs": [
    {
     "name": "stdout",
     "output_type": "stream",
     "text": [
      "Shape of transfers df before dropping hadm_id null rows: (2413581, 7)\n",
      "Shape of transfers df after dropping hadm_id null rows: (2004604, 7)\n"
     ]
    }
   ],
   "source": [
    "print(f'Shape of transfers df before dropping hadm_id null rows: {transfers.shape}')\n",
    "transfers = transfers[~transfers.hadm_id.isnull()]\n",
    "print(f'Shape of transfers df after dropping hadm_id null rows: {transfers.shape}')\n",
    "transfers.hadm_id = transfers.hadm_id.astype(int)"
   ]
  },
  {
   "cell_type": "code",
   "execution_count": 13,
   "id": "a64724ff-8fd0-4f58-a64e-9654de8b14b2",
   "metadata": {},
   "outputs": [
    {
     "data": {
      "text/html": [
       "<div>\n",
       "<style scoped>\n",
       "    .dataframe tbody tr th:only-of-type {\n",
       "        vertical-align: middle;\n",
       "    }\n",
       "\n",
       "    .dataframe tbody tr th {\n",
       "        vertical-align: top;\n",
       "    }\n",
       "\n",
       "    .dataframe thead th {\n",
       "        text-align: right;\n",
       "    }\n",
       "</style>\n",
       "<table border=\"1\" class=\"dataframe\">\n",
       "  <thead>\n",
       "    <tr style=\"text-align: right;\">\n",
       "      <th></th>\n",
       "      <th>subject_id</th>\n",
       "      <th>hadm_id</th>\n",
       "      <th>transfer_id</th>\n",
       "      <th>eventtype</th>\n",
       "      <th>careunit</th>\n",
       "      <th>intime</th>\n",
       "      <th>outtime</th>\n",
       "    </tr>\n",
       "  </thead>\n",
       "  <tbody>\n",
       "    <tr>\n",
       "      <th>0</th>\n",
       "      <td>10000032</td>\n",
       "      <td>22595853</td>\n",
       "      <td>33258284</td>\n",
       "      <td>ED</td>\n",
       "      <td>Emergency Department</td>\n",
       "      <td>2180-05-06 19:17:00</td>\n",
       "      <td>2180-05-06 23:30:00</td>\n",
       "    </tr>\n",
       "    <tr>\n",
       "      <th>1</th>\n",
       "      <td>10000032</td>\n",
       "      <td>22595853</td>\n",
       "      <td>35223874</td>\n",
       "      <td>admit</td>\n",
       "      <td>Transplant</td>\n",
       "      <td>2180-05-06 23:30:00</td>\n",
       "      <td>2180-05-07 17:21:27</td>\n",
       "    </tr>\n",
       "    <tr>\n",
       "      <th>2</th>\n",
       "      <td>10000032</td>\n",
       "      <td>22595853</td>\n",
       "      <td>36904543</td>\n",
       "      <td>discharge</td>\n",
       "      <td>UNKNOWN</td>\n",
       "      <td>2180-05-07 17:21:27</td>\n",
       "      <td>NaN</td>\n",
       "    </tr>\n",
       "    <tr>\n",
       "      <th>3</th>\n",
       "      <td>10000032</td>\n",
       "      <td>22841357</td>\n",
       "      <td>34100253</td>\n",
       "      <td>discharge</td>\n",
       "      <td>UNKNOWN</td>\n",
       "      <td>2180-06-27 18:49:12</td>\n",
       "      <td>NaN</td>\n",
       "    </tr>\n",
       "    <tr>\n",
       "      <th>4</th>\n",
       "      <td>10000032</td>\n",
       "      <td>22841357</td>\n",
       "      <td>34703856</td>\n",
       "      <td>admit</td>\n",
       "      <td>Transplant</td>\n",
       "      <td>2180-06-26 21:31:00</td>\n",
       "      <td>2180-06-27 18:49:12</td>\n",
       "    </tr>\n",
       "  </tbody>\n",
       "</table>\n",
       "</div>"
      ],
      "text/plain": [
       "   subject_id   hadm_id  transfer_id  eventtype              careunit  \\\n",
       "0    10000032  22595853     33258284         ED  Emergency Department   \n",
       "1    10000032  22595853     35223874      admit            Transplant   \n",
       "2    10000032  22595853     36904543  discharge               UNKNOWN   \n",
       "3    10000032  22841357     34100253  discharge               UNKNOWN   \n",
       "4    10000032  22841357     34703856      admit            Transplant   \n",
       "\n",
       "                intime              outtime  \n",
       "0  2180-05-06 19:17:00  2180-05-06 23:30:00  \n",
       "1  2180-05-06 23:30:00  2180-05-07 17:21:27  \n",
       "2  2180-05-07 17:21:27                  NaN  \n",
       "3  2180-06-27 18:49:12                  NaN  \n",
       "4  2180-06-26 21:31:00  2180-06-27 18:49:12  "
      ]
     },
     "execution_count": 13,
     "metadata": {},
     "output_type": "execute_result"
    }
   ],
   "source": [
    "transfers.head()"
   ]
  },
  {
   "cell_type": "code",
   "execution_count": 83,
   "id": "a72deb52-9273-4701-9a76-31e75a5ce0e9",
   "metadata": {},
   "outputs": [
    {
     "data": {
      "text/html": [
       "<div>\n",
       "<style scoped>\n",
       "    .dataframe tbody tr th:only-of-type {\n",
       "        vertical-align: middle;\n",
       "    }\n",
       "\n",
       "    .dataframe tbody tr th {\n",
       "        vertical-align: top;\n",
       "    }\n",
       "\n",
       "    .dataframe thead th {\n",
       "        text-align: right;\n",
       "    }\n",
       "</style>\n",
       "<table border=\"1\" class=\"dataframe\">\n",
       "  <thead>\n",
       "    <tr style=\"text-align: right;\">\n",
       "      <th></th>\n",
       "      <th>subject_id</th>\n",
       "      <th>hadm_id</th>\n",
       "      <th>seq_num</th>\n",
       "      <th>chartdate</th>\n",
       "      <th>icd_code</th>\n",
       "      <th>icd_version</th>\n",
       "    </tr>\n",
       "  </thead>\n",
       "  <tbody>\n",
       "    <tr>\n",
       "      <th>0</th>\n",
       "      <td>10000032</td>\n",
       "      <td>22595853</td>\n",
       "      <td>1</td>\n",
       "      <td>2180-05-07</td>\n",
       "      <td>5491</td>\n",
       "      <td>9</td>\n",
       "    </tr>\n",
       "    <tr>\n",
       "      <th>1</th>\n",
       "      <td>10000032</td>\n",
       "      <td>22841357</td>\n",
       "      <td>1</td>\n",
       "      <td>2180-06-27</td>\n",
       "      <td>5491</td>\n",
       "      <td>9</td>\n",
       "    </tr>\n",
       "    <tr>\n",
       "      <th>2</th>\n",
       "      <td>10000032</td>\n",
       "      <td>25742920</td>\n",
       "      <td>1</td>\n",
       "      <td>2180-08-06</td>\n",
       "      <td>5491</td>\n",
       "      <td>9</td>\n",
       "    </tr>\n",
       "    <tr>\n",
       "      <th>3</th>\n",
       "      <td>10000068</td>\n",
       "      <td>25022803</td>\n",
       "      <td>1</td>\n",
       "      <td>2160-03-03</td>\n",
       "      <td>8938</td>\n",
       "      <td>9</td>\n",
       "    </tr>\n",
       "    <tr>\n",
       "      <th>4</th>\n",
       "      <td>10000117</td>\n",
       "      <td>27988844</td>\n",
       "      <td>1</td>\n",
       "      <td>2183-09-19</td>\n",
       "      <td>0QS734Z</td>\n",
       "      <td>10</td>\n",
       "    </tr>\n",
       "  </tbody>\n",
       "</table>\n",
       "</div>"
      ],
      "text/plain": [
       "   subject_id   hadm_id  seq_num   chartdate icd_code  icd_version\n",
       "0    10000032  22595853        1  2180-05-07     5491            9\n",
       "1    10000032  22841357        1  2180-06-27     5491            9\n",
       "2    10000032  25742920        1  2180-08-06     5491            9\n",
       "3    10000068  25022803        1  2160-03-03     8938            9\n",
       "4    10000117  27988844        1  2183-09-19  0QS734Z           10"
      ]
     },
     "execution_count": 83,
     "metadata": {},
     "output_type": "execute_result"
    }
   ],
   "source": [
    "procedures.head()"
   ]
  },
  {
   "cell_type": "markdown",
   "id": "4150d60f-06d3-4198-9a1f-09dce6323292",
   "metadata": {},
   "source": [
    "## Preprocessing"
   ]
  },
  {
   "cell_type": "code",
   "execution_count": 14,
   "id": "5f61f68e-b395-4aee-bad8-02a8eb3cf93c",
   "metadata": {},
   "outputs": [],
   "source": [
    "##Avoid data leakage from the future\n",
    "\n",
    "# Convert 'admittime' to datetime if it's not already\n",
    "admissions['admittime'] = pd.to_datetime(admissions['admittime'])\n",
    "\n",
    "# Create the 'prediction_time' column by adding 3 hours to 'admittime'\n",
    "admissions['prediction_time'] = admissions['admittime'] + pd.Timedelta(hours=3)"
   ]
  },
  {
   "cell_type": "code",
   "execution_count": 87,
   "id": "4735189f-1447-4485-9b6a-1fee3131faec",
   "metadata": {},
   "outputs": [],
   "source": [
    "## Removing future data from Transfers\n",
    "\n",
    "# Merge 'admissions' with 'transfers' based on 'subject_id' and 'hadm_id'\n",
    "merged_transfers = transfers.merge(admissions[['subject_id', 'hadm_id', 'admittime', 'prediction_time']],\n",
    "                                   on=['subject_id', 'hadm_id'], how='left')\n",
    "\n",
    "# Filter rows where 'in_time' is between 'admittime' and 'prediction_time'\n",
    "merged_transfers = merged_transfers[(merged_transfers['intime'] >= merged_transfers['admittime']) &\n",
    "                                    (merged_transfers['intime'] <= merged_transfers['prediction_time'])]"
   ]
  },
  {
   "cell_type": "code",
   "execution_count": 88,
   "id": "188511f8-0822-4c83-825a-a62520a3fe89",
   "metadata": {},
   "outputs": [],
   "source": [
    "## Removing future data from Procedures\n",
    "\n",
    "# Merge 'admissions' with 'transfers' based on 'subject_id' and 'hadm_id'\n",
    "merged_procedures = procedures.merge(admissions[['subject_id', 'hadm_id', 'admittime', 'prediction_time']],\n",
    "                                   on=['subject_id', 'hadm_id'], how='left')\n",
    "\n",
    "# Filter rows where 'in_time' is between 'admittime' and 'prediction_time'\n",
    "merged_procedures = merged_procedures[(merged_procedures['chartdate'] >= merged_procedures['admittime']) &\n",
    "                                    (merged_procedures['chartdate'] <= merged_procedures['prediction_time'])]"
   ]
  },
  {
   "cell_type": "code",
   "execution_count": 89,
   "id": "59e4552d-c561-4644-81b0-e3eeab2f6080",
   "metadata": {},
   "outputs": [
    {
     "data": {
      "text/html": [
       "<div>\n",
       "<style scoped>\n",
       "    .dataframe tbody tr th:only-of-type {\n",
       "        vertical-align: middle;\n",
       "    }\n",
       "\n",
       "    .dataframe tbody tr th {\n",
       "        vertical-align: top;\n",
       "    }\n",
       "\n",
       "    .dataframe thead th {\n",
       "        text-align: right;\n",
       "    }\n",
       "</style>\n",
       "<table border=\"1\" class=\"dataframe\">\n",
       "  <thead>\n",
       "    <tr style=\"text-align: right;\">\n",
       "      <th></th>\n",
       "      <th>subject_id</th>\n",
       "      <th>gender</th>\n",
       "      <th>anchor_age</th>\n",
       "      <th>anchor_year</th>\n",
       "      <th>anchor_year_group</th>\n",
       "      <th>dod</th>\n",
       "    </tr>\n",
       "  </thead>\n",
       "  <tbody>\n",
       "    <tr>\n",
       "      <th>0</th>\n",
       "      <td>10000032</td>\n",
       "      <td>F</td>\n",
       "      <td>52</td>\n",
       "      <td>2180</td>\n",
       "      <td>2014 - 2016</td>\n",
       "      <td>2180-09-09</td>\n",
       "    </tr>\n",
       "    <tr>\n",
       "      <th>1</th>\n",
       "      <td>10000048</td>\n",
       "      <td>F</td>\n",
       "      <td>23</td>\n",
       "      <td>2126</td>\n",
       "      <td>2008 - 2010</td>\n",
       "      <td>NaN</td>\n",
       "    </tr>\n",
       "    <tr>\n",
       "      <th>2</th>\n",
       "      <td>10000058</td>\n",
       "      <td>F</td>\n",
       "      <td>33</td>\n",
       "      <td>2168</td>\n",
       "      <td>2020 - 2022</td>\n",
       "      <td>NaN</td>\n",
       "    </tr>\n",
       "    <tr>\n",
       "      <th>3</th>\n",
       "      <td>10000068</td>\n",
       "      <td>F</td>\n",
       "      <td>19</td>\n",
       "      <td>2160</td>\n",
       "      <td>2008 - 2010</td>\n",
       "      <td>NaN</td>\n",
       "    </tr>\n",
       "    <tr>\n",
       "      <th>4</th>\n",
       "      <td>10000084</td>\n",
       "      <td>M</td>\n",
       "      <td>72</td>\n",
       "      <td>2160</td>\n",
       "      <td>2017 - 2019</td>\n",
       "      <td>2161-02-13</td>\n",
       "    </tr>\n",
       "  </tbody>\n",
       "</table>\n",
       "</div>"
      ],
      "text/plain": [
       "   subject_id gender  anchor_age  anchor_year anchor_year_group         dod\n",
       "0    10000032      F          52         2180       2014 - 2016  2180-09-09\n",
       "1    10000048      F          23         2126       2008 - 2010         NaN\n",
       "2    10000058      F          33         2168       2020 - 2022         NaN\n",
       "3    10000068      F          19         2160       2008 - 2010         NaN\n",
       "4    10000084      M          72         2160       2017 - 2019  2161-02-13"
      ]
     },
     "execution_count": 89,
     "metadata": {},
     "output_type": "execute_result"
    }
   ],
   "source": [
    "patients.head()"
   ]
  },
  {
   "cell_type": "code",
   "execution_count": 4,
   "id": "feeac700-b0d6-47e1-ba86-169037f16552",
   "metadata": {
    "tags": []
   },
   "outputs": [
    {
     "data": {
      "text/plain": [
       "race\n",
       "WHITE                                        336538\n",
       "BLACK/AFRICAN AMERICAN                        75482\n",
       "OTHER                                         19788\n",
       "WHITE - OTHER EUROPEAN                        13972\n",
       "UNKNOWN                                       13870\n",
       "HISPANIC/LATINO - PUERTO RICAN                10903\n",
       "HISPANIC OR LATINO                             8287\n",
       "ASIAN                                          7809\n",
       "ASIAN - CHINESE                                7644\n",
       "WHITE - RUSSIAN                                6597\n",
       "BLACK/CAPE VERDEAN                             6205\n",
       "HISPANIC/LATINO - DOMINICAN                    6070\n",
       "BLACK/CARIBBEAN ISLAND                         3875\n",
       "BLACK/AFRICAN                                  3495\n",
       "UNABLE TO OBTAIN                               3478\n",
       "PATIENT DECLINED TO ANSWER                     2162\n",
       "PORTUGUESE                                     2082\n",
       "ASIAN - SOUTH EAST ASIAN                       1973\n",
       "WHITE - EASTERN EUROPEAN                       1886\n",
       "HISPANIC/LATINO - GUATEMALAN                   1858\n",
       "ASIAN - ASIAN INDIAN                           1661\n",
       "WHITE - BRAZILIAN                              1526\n",
       "HISPANIC/LATINO - SALVADORAN                   1320\n",
       "AMERICAN INDIAN/ALASKA NATIVE                  1247\n",
       "HISPANIC/LATINO - COLUMBIAN                     920\n",
       "HISPANIC/LATINO - MEXICAN                       883\n",
       "SOUTH AMERICAN                                  774\n",
       "HISPANIC/LATINO - HONDURAN                      725\n",
       "ASIAN - KOREAN                                  664\n",
       "HISPANIC/LATINO - CUBAN                         641\n",
       "HISPANIC/LATINO - CENTRAL AMERICAN              603\n",
       "MULTIPLE RACE/ETHNICITY                         596\n",
       "NATIVE HAWAIIAN OR OTHER PACIFIC ISLANDER       494\n",
       "Name: count, dtype: int64"
      ]
     },
     "execution_count": 4,
     "metadata": {},
     "output_type": "execute_result"
    }
   ],
   "source": [
    "admissions.race.value_counts()"
   ]
  },
  {
   "cell_type": "code",
   "execution_count": 5,
   "id": "97fa4748-3b62-44a1-b454-f5f437db65e9",
   "metadata": {
    "tags": []
   },
   "outputs": [],
   "source": [
    "category_mapping = {\n",
    "    # WHITE categories\n",
    "    'WHITE': 'WHITE',\n",
    "    'WHITE - OTHER EUROPEAN': 'WHITE',\n",
    "    'WHITE - RUSSIAN': 'WHITE',\n",
    "    'WHITE - EASTERN EUROPEAN': 'WHITE',\n",
    "    'WHITE - BRAZILIAN': 'WHITE',\n",
    "    \n",
    "    # BLACK/AFRICAN categories\n",
    "    'BLACK/AFRICAN AMERICAN': 'BLACK/AFRICAN',\n",
    "    'BLACK/CAPE VERDEAN': 'BLACK/AFRICAN',\n",
    "    'BLACK/CARIBBEAN ISLAND': 'BLACK/AFRICAN',\n",
    "    'BLACK/AFRICAN': 'BLACK/AFRICAN',\n",
    "    \n",
    "    # HISPANIC categories\n",
    "    'HISPANIC OR LATINO': 'HISPANIC',\n",
    "    'HISPANIC/LATINO - PUERTO RICAN': 'HISPANIC',\n",
    "    'HISPANIC/LATINO - DOMINICAN': 'HISPANIC',\n",
    "    'HISPANIC/LATINO - GUATEMALAN': 'HISPANIC',\n",
    "    'HISPANIC/LATINO - ASIAN INDIAN': 'HISPANIC',\n",
    "    'HISPANIC/LATINO - SALVADORAN': 'HISPANIC',\n",
    "    'HISPANIC/LATINO - COLUMBIAN': 'HISPANIC',\n",
    "    'HISPANIC/LATINO - MEXICAN': 'HISPANIC',\n",
    "    'HISPANIC/LATINO - HONDURAN': 'HISPANIC',\n",
    "    'HISPANIC/LATINO - CUBAN': 'HISPANIC',\n",
    "    'HISPANIC/LATINO - CENTRAL AMERICAN': 'HISPANIC',\n",
    "    \n",
    "    # ASIAN categories\n",
    "    'ASIAN': 'ASIAN',\n",
    "    'ASIAN - CHINESE': 'ASIAN',\n",
    "    'ASIAN - SOUTH EAST ASIAN': 'ASIAN',\n",
    "    'ASIAN - ASIAN INDIAN': 'ASIAN',\n",
    "    'ASIAN - KOREAN': 'ASIAN',\n",
    "    \n",
    "    # OTHER categories (updated and explicitly included)\n",
    "    'AMERICAN INDIAN/ALASKA NATIVE': 'OTHER',\n",
    "    'SOUTH AMERICAN': 'OTHER',\n",
    "    'NATIVE HAWAIIAN OR OTHER PACIFIC ISLANDER': 'OTHER',\n",
    "    'PORTUGUESE': 'OTHER',\n",
    "    'MULTIPLE RACE/ETHNICITY': 'OTHER',\n",
    "    'UNKNOWN': 'OTHER',\n",
    "    'UNABLE TO OBTAIN': 'OTHER',\n",
    "    'PATIENT DECLINED TO ANSWER': 'OTHER'\n",
    "}\n"
   ]
  },
  {
   "cell_type": "code",
   "execution_count": 6,
   "id": "311eda3c-bf08-4bad-b13d-829740954b5b",
   "metadata": {
    "tags": []
   },
   "outputs": [],
   "source": [
    "# avoid too granular race info\n",
    "admissions['race_grouped'] = admissions['race'].map(category_mapping)"
   ]
  },
  {
   "cell_type": "code",
   "execution_count": 7,
   "id": "69fead5b-4ac4-40d2-9bb3-cf6f460f1b92",
   "metadata": {
    "tags": []
   },
   "outputs": [
    {
     "data": {
      "text/plain": [
       "race_grouped\n",
       "WHITE            360519\n",
       "BLACK/AFRICAN     89057\n",
       "HISPANIC          32210\n",
       "OTHER             24703\n",
       "ASIAN             19751\n",
       "Name: count, dtype: int64"
      ]
     },
     "execution_count": 7,
     "metadata": {},
     "output_type": "execute_result"
    }
   ],
   "source": [
    "admissions.race_grouped.value_counts()"
   ]
  },
  {
   "cell_type": "code",
   "execution_count": 8,
   "id": "957e1bc3-c3a7-441d-a169-c2c46cf43020",
   "metadata": {
    "tags": []
   },
   "outputs": [],
   "source": [
    "# Merge datasets\n",
    "# First, merge admissions and patients\n",
    "merged_data = pd.merge(admissions, patients, on='subject_id', how='inner')\n",
    "\n",
    "# Then, merge the result with transfers\n",
    "# merged_data = pd.merge(merged_data, merged_transfers, on=['subject_id'], how='inner')"
   ]
  },
  {
   "cell_type": "code",
   "execution_count": 9,
   "id": "11cb8f40-bd02-493b-afd7-1763bc487131",
   "metadata": {
    "tags": []
   },
   "outputs": [
    {
     "data": {
      "text/html": [
       "<div>\n",
       "<style scoped>\n",
       "    .dataframe tbody tr th:only-of-type {\n",
       "        vertical-align: middle;\n",
       "    }\n",
       "\n",
       "    .dataframe tbody tr th {\n",
       "        vertical-align: top;\n",
       "    }\n",
       "\n",
       "    .dataframe thead th {\n",
       "        text-align: right;\n",
       "    }\n",
       "</style>\n",
       "<table border=\"1\" class=\"dataframe\">\n",
       "  <thead>\n",
       "    <tr style=\"text-align: right;\">\n",
       "      <th></th>\n",
       "      <th>subject_id</th>\n",
       "      <th>hadm_id</th>\n",
       "      <th>admittime</th>\n",
       "      <th>dischtime</th>\n",
       "      <th>deathtime</th>\n",
       "      <th>admission_type</th>\n",
       "      <th>admit_provider_id</th>\n",
       "      <th>admission_location</th>\n",
       "      <th>discharge_location</th>\n",
       "      <th>insurance</th>\n",
       "      <th>...</th>\n",
       "      <th>race</th>\n",
       "      <th>edregtime</th>\n",
       "      <th>edouttime</th>\n",
       "      <th>hospital_expire_flag</th>\n",
       "      <th>race_grouped</th>\n",
       "      <th>gender</th>\n",
       "      <th>anchor_age</th>\n",
       "      <th>anchor_year</th>\n",
       "      <th>anchor_year_group</th>\n",
       "      <th>dod</th>\n",
       "    </tr>\n",
       "  </thead>\n",
       "  <tbody>\n",
       "    <tr>\n",
       "      <th>0</th>\n",
       "      <td>10000032</td>\n",
       "      <td>22595853</td>\n",
       "      <td>2180-05-06 22:23:00</td>\n",
       "      <td>2180-05-07 17:15:00</td>\n",
       "      <td>NaN</td>\n",
       "      <td>URGENT</td>\n",
       "      <td>P49AFC</td>\n",
       "      <td>TRANSFER FROM HOSPITAL</td>\n",
       "      <td>HOME</td>\n",
       "      <td>Medicaid</td>\n",
       "      <td>...</td>\n",
       "      <td>WHITE</td>\n",
       "      <td>2180-05-06 19:17:00</td>\n",
       "      <td>2180-05-06 23:30:00</td>\n",
       "      <td>0</td>\n",
       "      <td>WHITE</td>\n",
       "      <td>F</td>\n",
       "      <td>52</td>\n",
       "      <td>2180</td>\n",
       "      <td>2014 - 2016</td>\n",
       "      <td>2180-09-09</td>\n",
       "    </tr>\n",
       "    <tr>\n",
       "      <th>1</th>\n",
       "      <td>10000032</td>\n",
       "      <td>22841357</td>\n",
       "      <td>2180-06-26 18:27:00</td>\n",
       "      <td>2180-06-27 18:49:00</td>\n",
       "      <td>NaN</td>\n",
       "      <td>EW EMER.</td>\n",
       "      <td>P784FA</td>\n",
       "      <td>EMERGENCY ROOM</td>\n",
       "      <td>HOME</td>\n",
       "      <td>Medicaid</td>\n",
       "      <td>...</td>\n",
       "      <td>WHITE</td>\n",
       "      <td>2180-06-26 15:54:00</td>\n",
       "      <td>2180-06-26 21:31:00</td>\n",
       "      <td>0</td>\n",
       "      <td>WHITE</td>\n",
       "      <td>F</td>\n",
       "      <td>52</td>\n",
       "      <td>2180</td>\n",
       "      <td>2014 - 2016</td>\n",
       "      <td>2180-09-09</td>\n",
       "    </tr>\n",
       "    <tr>\n",
       "      <th>2</th>\n",
       "      <td>10000032</td>\n",
       "      <td>25742920</td>\n",
       "      <td>2180-08-05 23:44:00</td>\n",
       "      <td>2180-08-07 17:50:00</td>\n",
       "      <td>NaN</td>\n",
       "      <td>EW EMER.</td>\n",
       "      <td>P19UTS</td>\n",
       "      <td>EMERGENCY ROOM</td>\n",
       "      <td>HOSPICE</td>\n",
       "      <td>Medicaid</td>\n",
       "      <td>...</td>\n",
       "      <td>WHITE</td>\n",
       "      <td>2180-08-05 20:58:00</td>\n",
       "      <td>2180-08-06 01:44:00</td>\n",
       "      <td>0</td>\n",
       "      <td>WHITE</td>\n",
       "      <td>F</td>\n",
       "      <td>52</td>\n",
       "      <td>2180</td>\n",
       "      <td>2014 - 2016</td>\n",
       "      <td>2180-09-09</td>\n",
       "    </tr>\n",
       "    <tr>\n",
       "      <th>3</th>\n",
       "      <td>10000032</td>\n",
       "      <td>29079034</td>\n",
       "      <td>2180-07-23 12:35:00</td>\n",
       "      <td>2180-07-25 17:55:00</td>\n",
       "      <td>NaN</td>\n",
       "      <td>EW EMER.</td>\n",
       "      <td>P06OTX</td>\n",
       "      <td>EMERGENCY ROOM</td>\n",
       "      <td>HOME</td>\n",
       "      <td>Medicaid</td>\n",
       "      <td>...</td>\n",
       "      <td>WHITE</td>\n",
       "      <td>2180-07-23 05:54:00</td>\n",
       "      <td>2180-07-23 14:00:00</td>\n",
       "      <td>0</td>\n",
       "      <td>WHITE</td>\n",
       "      <td>F</td>\n",
       "      <td>52</td>\n",
       "      <td>2180</td>\n",
       "      <td>2014 - 2016</td>\n",
       "      <td>2180-09-09</td>\n",
       "    </tr>\n",
       "    <tr>\n",
       "      <th>4</th>\n",
       "      <td>10000068</td>\n",
       "      <td>25022803</td>\n",
       "      <td>2160-03-03 23:16:00</td>\n",
       "      <td>2160-03-04 06:26:00</td>\n",
       "      <td>NaN</td>\n",
       "      <td>EU OBSERVATION</td>\n",
       "      <td>P39NWO</td>\n",
       "      <td>EMERGENCY ROOM</td>\n",
       "      <td>NaN</td>\n",
       "      <td>NaN</td>\n",
       "      <td>...</td>\n",
       "      <td>WHITE</td>\n",
       "      <td>2160-03-03 21:55:00</td>\n",
       "      <td>2160-03-04 06:26:00</td>\n",
       "      <td>0</td>\n",
       "      <td>WHITE</td>\n",
       "      <td>F</td>\n",
       "      <td>19</td>\n",
       "      <td>2160</td>\n",
       "      <td>2008 - 2010</td>\n",
       "      <td>NaN</td>\n",
       "    </tr>\n",
       "  </tbody>\n",
       "</table>\n",
       "<p>5 rows × 22 columns</p>\n",
       "</div>"
      ],
      "text/plain": [
       "   subject_id   hadm_id            admittime            dischtime deathtime  \\\n",
       "0    10000032  22595853  2180-05-06 22:23:00  2180-05-07 17:15:00       NaN   \n",
       "1    10000032  22841357  2180-06-26 18:27:00  2180-06-27 18:49:00       NaN   \n",
       "2    10000032  25742920  2180-08-05 23:44:00  2180-08-07 17:50:00       NaN   \n",
       "3    10000032  29079034  2180-07-23 12:35:00  2180-07-25 17:55:00       NaN   \n",
       "4    10000068  25022803  2160-03-03 23:16:00  2160-03-04 06:26:00       NaN   \n",
       "\n",
       "   admission_type admit_provider_id      admission_location  \\\n",
       "0          URGENT            P49AFC  TRANSFER FROM HOSPITAL   \n",
       "1        EW EMER.            P784FA          EMERGENCY ROOM   \n",
       "2        EW EMER.            P19UTS          EMERGENCY ROOM   \n",
       "3        EW EMER.            P06OTX          EMERGENCY ROOM   \n",
       "4  EU OBSERVATION            P39NWO          EMERGENCY ROOM   \n",
       "\n",
       "  discharge_location insurance  ...   race            edregtime  \\\n",
       "0               HOME  Medicaid  ...  WHITE  2180-05-06 19:17:00   \n",
       "1               HOME  Medicaid  ...  WHITE  2180-06-26 15:54:00   \n",
       "2            HOSPICE  Medicaid  ...  WHITE  2180-08-05 20:58:00   \n",
       "3               HOME  Medicaid  ...  WHITE  2180-07-23 05:54:00   \n",
       "4                NaN       NaN  ...  WHITE  2160-03-03 21:55:00   \n",
       "\n",
       "             edouttime hospital_expire_flag race_grouped  gender anchor_age  \\\n",
       "0  2180-05-06 23:30:00                    0        WHITE       F         52   \n",
       "1  2180-06-26 21:31:00                    0        WHITE       F         52   \n",
       "2  2180-08-06 01:44:00                    0        WHITE       F         52   \n",
       "3  2180-07-23 14:00:00                    0        WHITE       F         52   \n",
       "4  2160-03-04 06:26:00                    0        WHITE       F         19   \n",
       "\n",
       "  anchor_year  anchor_year_group         dod  \n",
       "0        2180        2014 - 2016  2180-09-09  \n",
       "1        2180        2014 - 2016  2180-09-09  \n",
       "2        2180        2014 - 2016  2180-09-09  \n",
       "3        2180        2014 - 2016  2180-09-09  \n",
       "4        2160        2008 - 2010         NaN  \n",
       "\n",
       "[5 rows x 22 columns]"
      ]
     },
     "execution_count": 9,
     "metadata": {},
     "output_type": "execute_result"
    }
   ],
   "source": [
    "merged_data.head()"
   ]
  },
  {
   "cell_type": "code",
   "execution_count": 10,
   "id": "56798eeb-efe5-4561-881c-80d87a9c3b9c",
   "metadata": {
    "tags": []
   },
   "outputs": [],
   "source": [
    "# Merge datasets\n",
    "\n",
    "# Feature engineering\n",
    "merged_data['admittime'] = pd.to_datetime(merged_data['admittime'])\n",
    "merged_data['dischtime'] = pd.to_datetime(merged_data['dischtime'])\n",
    "merged_data['time_in_hospital'] = (merged_data['dischtime'] - merged_data['admittime']).dt.total_seconds() / 3600\n",
    "merged_data = merged_data[merged_data['time_in_hospital'] >= 3]  # Exclude admissions less than 3 hours\n",
    "merged_data['gender'] = merged_data['gender'].map({'M': 0, 'F': 1})\n",
    "merged_data = pd.get_dummies(merged_data, columns=['race_grouped','gender', 'admission_type','insurance', 'admission_location'], drop_first=True)"
   ]
  },
  {
   "cell_type": "code",
   "execution_count": 21,
   "id": "074607ea-9bd0-4153-b651-f950ea4330c2",
   "metadata": {},
   "outputs": [
    {
     "data": {
      "text/html": [
       "<div>\n",
       "<style scoped>\n",
       "    .dataframe tbody tr th:only-of-type {\n",
       "        vertical-align: middle;\n",
       "    }\n",
       "\n",
       "    .dataframe tbody tr th {\n",
       "        vertical-align: top;\n",
       "    }\n",
       "\n",
       "    .dataframe thead th {\n",
       "        text-align: right;\n",
       "    }\n",
       "</style>\n",
       "<table border=\"1\" class=\"dataframe\">\n",
       "  <thead>\n",
       "    <tr style=\"text-align: right;\">\n",
       "      <th></th>\n",
       "      <th>subject_id</th>\n",
       "      <th>hadm_id</th>\n",
       "      <th>admittime</th>\n",
       "      <th>dischtime</th>\n",
       "      <th>deathtime</th>\n",
       "      <th>admit_provider_id</th>\n",
       "      <th>discharge_location</th>\n",
       "      <th>language</th>\n",
       "      <th>marital_status</th>\n",
       "      <th>race</th>\n",
       "      <th>...</th>\n",
       "      <th>admission_location_CLINIC REFERRAL</th>\n",
       "      <th>admission_location_EMERGENCY ROOM</th>\n",
       "      <th>admission_location_INFORMATION NOT AVAILABLE</th>\n",
       "      <th>admission_location_INTERNAL TRANSFER TO OR FROM PSYCH</th>\n",
       "      <th>admission_location_PACU</th>\n",
       "      <th>admission_location_PHYSICIAN REFERRAL</th>\n",
       "      <th>admission_location_PROCEDURE SITE</th>\n",
       "      <th>admission_location_TRANSFER FROM HOSPITAL</th>\n",
       "      <th>admission_location_TRANSFER FROM SKILLED NURSING FACILITY</th>\n",
       "      <th>admission_location_WALK-IN/SELF REFERRAL</th>\n",
       "    </tr>\n",
       "  </thead>\n",
       "  <tbody>\n",
       "    <tr>\n",
       "      <th>0</th>\n",
       "      <td>10000032</td>\n",
       "      <td>22595853</td>\n",
       "      <td>2180-05-06 22:23:00</td>\n",
       "      <td>2180-05-07 17:15:00</td>\n",
       "      <td>NaN</td>\n",
       "      <td>P49AFC</td>\n",
       "      <td>HOME</td>\n",
       "      <td>English</td>\n",
       "      <td>WIDOWED</td>\n",
       "      <td>WHITE</td>\n",
       "      <td>...</td>\n",
       "      <td>0</td>\n",
       "      <td>0</td>\n",
       "      <td>0</td>\n",
       "      <td>0</td>\n",
       "      <td>0</td>\n",
       "      <td>0</td>\n",
       "      <td>0</td>\n",
       "      <td>1</td>\n",
       "      <td>0</td>\n",
       "      <td>0</td>\n",
       "    </tr>\n",
       "    <tr>\n",
       "      <th>1</th>\n",
       "      <td>10000032</td>\n",
       "      <td>22841357</td>\n",
       "      <td>2180-06-26 18:27:00</td>\n",
       "      <td>2180-06-27 18:49:00</td>\n",
       "      <td>NaN</td>\n",
       "      <td>P784FA</td>\n",
       "      <td>HOME</td>\n",
       "      <td>English</td>\n",
       "      <td>WIDOWED</td>\n",
       "      <td>WHITE</td>\n",
       "      <td>...</td>\n",
       "      <td>0</td>\n",
       "      <td>1</td>\n",
       "      <td>0</td>\n",
       "      <td>0</td>\n",
       "      <td>0</td>\n",
       "      <td>0</td>\n",
       "      <td>0</td>\n",
       "      <td>0</td>\n",
       "      <td>0</td>\n",
       "      <td>0</td>\n",
       "    </tr>\n",
       "    <tr>\n",
       "      <th>2</th>\n",
       "      <td>10000032</td>\n",
       "      <td>25742920</td>\n",
       "      <td>2180-08-05 23:44:00</td>\n",
       "      <td>2180-08-07 17:50:00</td>\n",
       "      <td>NaN</td>\n",
       "      <td>P19UTS</td>\n",
       "      <td>HOSPICE</td>\n",
       "      <td>English</td>\n",
       "      <td>WIDOWED</td>\n",
       "      <td>WHITE</td>\n",
       "      <td>...</td>\n",
       "      <td>0</td>\n",
       "      <td>1</td>\n",
       "      <td>0</td>\n",
       "      <td>0</td>\n",
       "      <td>0</td>\n",
       "      <td>0</td>\n",
       "      <td>0</td>\n",
       "      <td>0</td>\n",
       "      <td>0</td>\n",
       "      <td>0</td>\n",
       "    </tr>\n",
       "    <tr>\n",
       "      <th>3</th>\n",
       "      <td>10000032</td>\n",
       "      <td>29079034</td>\n",
       "      <td>2180-07-23 12:35:00</td>\n",
       "      <td>2180-07-25 17:55:00</td>\n",
       "      <td>NaN</td>\n",
       "      <td>P06OTX</td>\n",
       "      <td>HOME</td>\n",
       "      <td>English</td>\n",
       "      <td>WIDOWED</td>\n",
       "      <td>WHITE</td>\n",
       "      <td>...</td>\n",
       "      <td>0</td>\n",
       "      <td>1</td>\n",
       "      <td>0</td>\n",
       "      <td>0</td>\n",
       "      <td>0</td>\n",
       "      <td>0</td>\n",
       "      <td>0</td>\n",
       "      <td>0</td>\n",
       "      <td>0</td>\n",
       "      <td>0</td>\n",
       "    </tr>\n",
       "    <tr>\n",
       "      <th>4</th>\n",
       "      <td>10000068</td>\n",
       "      <td>25022803</td>\n",
       "      <td>2160-03-03 23:16:00</td>\n",
       "      <td>2160-03-04 06:26:00</td>\n",
       "      <td>NaN</td>\n",
       "      <td>P39NWO</td>\n",
       "      <td>NaN</td>\n",
       "      <td>English</td>\n",
       "      <td>SINGLE</td>\n",
       "      <td>WHITE</td>\n",
       "      <td>...</td>\n",
       "      <td>0</td>\n",
       "      <td>1</td>\n",
       "      <td>0</td>\n",
       "      <td>0</td>\n",
       "      <td>0</td>\n",
       "      <td>0</td>\n",
       "      <td>0</td>\n",
       "      <td>0</td>\n",
       "      <td>0</td>\n",
       "      <td>0</td>\n",
       "    </tr>\n",
       "  </tbody>\n",
       "</table>\n",
       "<p>5 rows × 46 columns</p>\n",
       "</div>"
      ],
      "text/plain": [
       "   subject_id   hadm_id           admittime           dischtime deathtime  \\\n",
       "0    10000032  22595853 2180-05-06 22:23:00 2180-05-07 17:15:00       NaN   \n",
       "1    10000032  22841357 2180-06-26 18:27:00 2180-06-27 18:49:00       NaN   \n",
       "2    10000032  25742920 2180-08-05 23:44:00 2180-08-07 17:50:00       NaN   \n",
       "3    10000032  29079034 2180-07-23 12:35:00 2180-07-25 17:55:00       NaN   \n",
       "4    10000068  25022803 2160-03-03 23:16:00 2160-03-04 06:26:00       NaN   \n",
       "\n",
       "  admit_provider_id discharge_location language marital_status   race  ...  \\\n",
       "0            P49AFC               HOME  English        WIDOWED  WHITE  ...   \n",
       "1            P784FA               HOME  English        WIDOWED  WHITE  ...   \n",
       "2            P19UTS            HOSPICE  English        WIDOWED  WHITE  ...   \n",
       "3            P06OTX               HOME  English        WIDOWED  WHITE  ...   \n",
       "4            P39NWO                NaN  English         SINGLE  WHITE  ...   \n",
       "\n",
       "  admission_location_CLINIC REFERRAL admission_location_EMERGENCY ROOM  \\\n",
       "0                                  0                                 0   \n",
       "1                                  0                                 1   \n",
       "2                                  0                                 1   \n",
       "3                                  0                                 1   \n",
       "4                                  0                                 1   \n",
       "\n",
       "   admission_location_INFORMATION NOT AVAILABLE  \\\n",
       "0                                             0   \n",
       "1                                             0   \n",
       "2                                             0   \n",
       "3                                             0   \n",
       "4                                             0   \n",
       "\n",
       "  admission_location_INTERNAL TRANSFER TO OR FROM PSYCH  \\\n",
       "0                                                  0      \n",
       "1                                                  0      \n",
       "2                                                  0      \n",
       "3                                                  0      \n",
       "4                                                  0      \n",
       "\n",
       "   admission_location_PACU  admission_location_PHYSICIAN REFERRAL  \\\n",
       "0                        0                                      0   \n",
       "1                        0                                      0   \n",
       "2                        0                                      0   \n",
       "3                        0                                      0   \n",
       "4                        0                                      0   \n",
       "\n",
       "  admission_location_PROCEDURE SITE admission_location_TRANSFER FROM HOSPITAL  \\\n",
       "0                                 0                                         1   \n",
       "1                                 0                                         0   \n",
       "2                                 0                                         0   \n",
       "3                                 0                                         0   \n",
       "4                                 0                                         0   \n",
       "\n",
       "   admission_location_TRANSFER FROM SKILLED NURSING FACILITY  \\\n",
       "0                                                  0           \n",
       "1                                                  0           \n",
       "2                                                  0           \n",
       "3                                                  0           \n",
       "4                                                  0           \n",
       "\n",
       "   admission_location_WALK-IN/SELF REFERRAL  \n",
       "0                                         0  \n",
       "1                                         0  \n",
       "2                                         0  \n",
       "3                                         0  \n",
       "4                                         0  \n",
       "\n",
       "[5 rows x 46 columns]"
      ]
     },
     "execution_count": 21,
     "metadata": {},
     "output_type": "execute_result"
    }
   ],
   "source": [
    "merged_data.head()"
   ]
  },
  {
   "cell_type": "code",
   "execution_count": 98,
   "id": "a77b4dcf-0385-49d5-90fb-24126c02c4e5",
   "metadata": {},
   "outputs": [
    {
     "name": "stdout",
     "output_type": "stream",
     "text": [
      "<class 'pandas.core.frame.DataFrame'>\n",
      "Int64Index: 539366 entries, 0 to 546027\n",
      "Data columns (total 46 columns):\n",
      " #   Column                                                     Non-Null Count   Dtype         \n",
      "---  ------                                                     --------------   -----         \n",
      " 0   subject_id                                                 539366 non-null  int64         \n",
      " 1   hadm_id                                                    539366 non-null  int64         \n",
      " 2   admittime                                                  539366 non-null  datetime64[ns]\n",
      " 3   dischtime                                                  539366 non-null  datetime64[ns]\n",
      " 4   deathtime                                                  11551 non-null   object        \n",
      " 5   admit_provider_id                                          539362 non-null  object        \n",
      " 6   discharge_location                                         395827 non-null  object        \n",
      " 7   language                                                   538609 non-null  object        \n",
      " 8   marital_status                                             525953 non-null  object        \n",
      " 9   race                                                       539366 non-null  object        \n",
      " 10  edregtime                                                  372952 non-null  object        \n",
      " 11  edouttime                                                  372952 non-null  object        \n",
      " 12  hospital_expire_flag                                       539366 non-null  int64         \n",
      " 13  prediction_time                                            539366 non-null  datetime64[ns]\n",
      " 14  anchor_age                                                 539366 non-null  int64         \n",
      " 15  anchor_year                                                539366 non-null  int64         \n",
      " 16  anchor_year_group                                          539366 non-null  object        \n",
      " 17  dod                                                        143988 non-null  object        \n",
      " 18  time_in_hospital                                           539366 non-null  float64       \n",
      " 19  race_grouped_BLACK/AFRICAN                                 539366 non-null  uint8         \n",
      " 20  race_grouped_HISPANIC                                      539366 non-null  uint8         \n",
      " 21  race_grouped_OTHER                                         539366 non-null  uint8         \n",
      " 22  race_grouped_WHITE                                         539366 non-null  uint8         \n",
      " 23  gender_1                                                   539366 non-null  uint8         \n",
      " 24  admission_type_DIRECT EMER.                                539366 non-null  uint8         \n",
      " 25  admission_type_DIRECT OBSERVATION                          539366 non-null  uint8         \n",
      " 26  admission_type_ELECTIVE                                    539366 non-null  uint8         \n",
      " 27  admission_type_EU OBSERVATION                              539366 non-null  uint8         \n",
      " 28  admission_type_EW EMER.                                    539366 non-null  uint8         \n",
      " 29  admission_type_OBSERVATION ADMIT                           539366 non-null  uint8         \n",
      " 30  admission_type_SURGICAL SAME DAY ADMISSION                 539366 non-null  uint8         \n",
      " 31  admission_type_URGENT                                      539366 non-null  uint8         \n",
      " 32  insurance_Medicare                                         539366 non-null  uint8         \n",
      " 33  insurance_No charge                                        539366 non-null  uint8         \n",
      " 34  insurance_Other                                            539366 non-null  uint8         \n",
      " 35  insurance_Private                                          539366 non-null  uint8         \n",
      " 36  admission_location_CLINIC REFERRAL                         539366 non-null  uint8         \n",
      " 37  admission_location_EMERGENCY ROOM                          539366 non-null  uint8         \n",
      " 38  admission_location_INFORMATION NOT AVAILABLE               539366 non-null  uint8         \n",
      " 39  admission_location_INTERNAL TRANSFER TO OR FROM PSYCH      539366 non-null  uint8         \n",
      " 40  admission_location_PACU                                    539366 non-null  uint8         \n",
      " 41  admission_location_PHYSICIAN REFERRAL                      539366 non-null  uint8         \n",
      " 42  admission_location_PROCEDURE SITE                          539366 non-null  uint8         \n",
      " 43  admission_location_TRANSFER FROM HOSPITAL                  539366 non-null  uint8         \n",
      " 44  admission_location_TRANSFER FROM SKILLED NURSING FACILITY  539366 non-null  uint8         \n",
      " 45  admission_location_WALK-IN/SELF REFERRAL                   539366 non-null  uint8         \n",
      "dtypes: datetime64[ns](3), float64(1), int64(5), object(10), uint8(27)\n",
      "memory usage: 96.2+ MB\n"
     ]
    }
   ],
   "source": [
    "merged_data.info()"
   ]
  },
  {
   "cell_type": "code",
   "execution_count": 11,
   "id": "fb9e162b-84c5-44ba-a28c-07429979a1e9",
   "metadata": {
    "tags": []
   },
   "outputs": [
    {
     "name": "stdout",
     "output_type": "stream",
     "text": [
      "Index(['subject_id', 'hadm_id', 'admittime', 'dischtime', 'deathtime',\n",
      "       'admit_provider_id', 'discharge_location', 'language', 'marital_status',\n",
      "       'race', 'edregtime', 'edouttime', 'hospital_expire_flag', 'anchor_age',\n",
      "       'anchor_year', 'anchor_year_group', 'dod', 'time_in_hospital',\n",
      "       'race_grouped_BLACK/AFRICAN', 'race_grouped_HISPANIC',\n",
      "       'race_grouped_OTHER', 'race_grouped_WHITE', 'gender_1',\n",
      "       'admission_type_DIRECT EMER.', 'admission_type_DIRECT OBSERVATION',\n",
      "       'admission_type_ELECTIVE', 'admission_type_EU OBSERVATION',\n",
      "       'admission_type_EW EMER.', 'admission_type_OBSERVATION ADMIT',\n",
      "       'admission_type_SURGICAL SAME DAY ADMISSION', 'admission_type_URGENT',\n",
      "       'insurance_Medicare', 'insurance_No charge', 'insurance_Other',\n",
      "       'insurance_Private', 'admission_location_CLINIC REFERRAL',\n",
      "       'admission_location_EMERGENCY ROOM',\n",
      "       'admission_location_INFORMATION NOT AVAILABLE',\n",
      "       'admission_location_INTERNAL TRANSFER TO OR FROM PSYCH',\n",
      "       'admission_location_PACU', 'admission_location_PHYSICIAN REFERRAL',\n",
      "       'admission_location_PROCEDURE SITE',\n",
      "       'admission_location_TRANSFER FROM HOSPITAL',\n",
      "       'admission_location_TRANSFER FROM SKILLED NURSING FACILITY',\n",
      "       'admission_location_WALK-IN/SELF REFERRAL'],\n",
      "      dtype='object')\n"
     ]
    }
   ],
   "source": [
    "print(merged_data.columns)\n"
   ]
  },
  {
   "cell_type": "code",
   "execution_count": 12,
   "id": "f3598220-74f9-4427-92fe-a6eeac36e1c0",
   "metadata": {
    "tags": []
   },
   "outputs": [],
   "source": [
    "#Selecting columns for x from merged data\n",
    "selected_cols = ['anchor_age', 'insurance_Medicare', 'insurance_No charge', 'insurance_Other','gender_1','race_grouped_BLACK/AFRICAN',\n",
    "       'race_grouped_HISPANIC', 'race_grouped_OTHER', 'race_grouped_WHITE',\n",
    "       'insurance_Private', 'admission_location_EMERGENCY ROOM',\n",
    "       'admission_location_INFORMATION NOT AVAILABLE',\n",
    "       'admission_location_INTERNAL TRANSFER TO OR FROM PSYCH',\n",
    "       'admission_location_PACU', 'admission_location_PHYSICIAN REFERRAL',\n",
    "       'admission_location_PROCEDURE SITE',\n",
    "       'admission_location_TRANSFER FROM HOSPITAL',\n",
    "       'admission_location_TRANSFER FROM SKILLED NURSING FACILITY',\n",
    "       'admission_location_WALK-IN/SELF REFERRAL']"
   ]
  },
  {
   "cell_type": "code",
   "execution_count": 13,
   "id": "dea1f38d-cdbd-40a1-9b5b-a3e9491eb425",
   "metadata": {
    "tags": []
   },
   "outputs": [
    {
     "data": {
      "text/plain": [
       "19"
      ]
     },
     "execution_count": 13,
     "metadata": {},
     "output_type": "execute_result"
    }
   ],
   "source": [
    "len(selected_cols)"
   ]
  },
  {
   "cell_type": "markdown",
   "id": "f6ba8cfe-df60-4ff0-93e6-dc47e750fe2e",
   "metadata": {},
   "source": [
    "## Stratified Sampling"
   ]
  },
  {
   "cell_type": "code",
   "execution_count": 14,
   "id": "92f404f7-768f-4546-8ae9-9424656ebf2a",
   "metadata": {
    "tags": []
   },
   "outputs": [],
   "source": [
    "# reduce the ratio of the training & validation sets based on y\n",
    "\n",
    "from sklearn.model_selection import train_test_split\n",
    "from sklearn.utils import resample\n",
    "\n",
    "# Split the data into training + validation and test sets (80% training + validation, 20% test)\n",
    "train_val_data, test_data = train_test_split(merged_data, test_size=0.2, random_state=42, stratify=merged_data['hospital_expire_flag'])\n",
    "\n",
    "# Further split the training + validation data into training and validation sets (80% training, 20% validation)\n",
    "train_data, val_data = train_test_split(train_val_data, test_size=0.2, random_state=42, stratify=train_val_data['hospital_expire_flag'])\n",
    "\n",
    "# Separate the positive (1) and negative (0) classes in the training data\n",
    "train_neg = train_data[train_data['hospital_expire_flag'] == 0]\n",
    "train_pos = train_data[train_data['hospital_expire_flag'] == 1]\n",
    "\n",
    "# Downsample the negative class to 10% of the original negative class size\n",
    "train_neg_downsampled = resample(train_neg, \n",
    "                                 replace=False,    # Don't sample with replacement\n",
    "                                 n_samples=int(0.1 * len(train_neg)),  # Downsample to 10% of the original negative class size\n",
    "                                 random_state=42)  # Set random state for reproducibility\n",
    "\n",
    "# Concatenate the downsampled negatives with the positive class (no downsampling)\n",
    "train_data_balanced = pd.concat([train_pos, train_neg_downsampled])\n",
    "\n",
    "# Shuffle the balanced training set\n",
    "train_data_balanced = train_data_balanced.sample(frac=1, random_state=42).reset_index(drop=True)\n",
    "\n",
    "# The final datasets:\n",
    "# - `train_data_balanced`: The downsampled training set (with 10% of negative class)\n",
    "# - `val_data`: Validation set (with the original class distribution)\n",
    "# - `test_data`: Test set (with the original class distribution)\n"
   ]
  },
  {
   "cell_type": "code",
   "execution_count": 15,
   "id": "d8aae011-b52c-433e-9112-04f2e93ce313",
   "metadata": {
    "tags": []
   },
   "outputs": [
    {
     "data": {
      "text/plain": [
       "hospital_expire_flag\n",
       "0    33779\n",
       "1     7400\n",
       "Name: count, dtype: int64"
      ]
     },
     "execution_count": 15,
     "metadata": {},
     "output_type": "execute_result"
    }
   ],
   "source": [
    "train_data_balanced.hospital_expire_flag.value_counts(dropna=False)\n"
   ]
  },
  {
   "cell_type": "code",
   "execution_count": 16,
   "id": "59f95ea2-6b52-4125-87d8-90f2d33c8445",
   "metadata": {
    "tags": []
   },
   "outputs": [
    {
     "data": {
      "text/plain": [
       "hospital_expire_flag\n",
       "0    84449\n",
       "1     1850\n",
       "Name: count, dtype: int64"
      ]
     },
     "execution_count": 16,
     "metadata": {},
     "output_type": "execute_result"
    }
   ],
   "source": [
    "val_data.hospital_expire_flag.value_counts(dropna=False)\n"
   ]
  },
  {
   "cell_type": "code",
   "execution_count": 17,
   "id": "53a36a43-1cce-4de5-a442-6952449e2004",
   "metadata": {
    "tags": []
   },
   "outputs": [
    {
     "data": {
      "text/plain": [
       "hospital_expire_flag\n",
       "0    105562\n",
       "1      2312\n",
       "Name: count, dtype: int64"
      ]
     },
     "execution_count": 17,
     "metadata": {},
     "output_type": "execute_result"
    }
   ],
   "source": [
    "test_data.hospital_expire_flag.value_counts(dropna=False)"
   ]
  },
  {
   "cell_type": "code",
   "execution_count": 18,
   "id": "e897408e-30d1-4faf-ace8-9909a4fbd3f8",
   "metadata": {
    "tags": []
   },
   "outputs": [],
   "source": [
    "# Define X and y for all datasets\n",
    "X_train = train_data_balanced[selected_cols] #.drop(columns='hospital_expire_flag')\n",
    "y_train = train_data_balanced['hospital_expire_flag']\n",
    "\n",
    "X_val = val_data[selected_cols] #.drop(columns='hospital_expire_flag')\n",
    "y_val = val_data['hospital_expire_flag']\n",
    "\n",
    "X_test = test_data[selected_cols] #.drop(columns='hospital_expire_flag')\n",
    "y_test = test_data['hospital_expire_flag']"
   ]
  },
  {
   "cell_type": "code",
   "execution_count": 19,
   "id": "90560926-a817-4e36-a56b-d9270d771bcc",
   "metadata": {
    "tags": []
   },
   "outputs": [
    {
     "data": {
      "text/plain": [
       "Index(['anchor_age', 'insurance_Medicare', 'insurance_No charge',\n",
       "       'insurance_Other', 'gender_1', 'race_grouped_BLACK/AFRICAN',\n",
       "       'race_grouped_HISPANIC', 'race_grouped_OTHER', 'race_grouped_WHITE',\n",
       "       'insurance_Private', 'admission_location_EMERGENCY ROOM',\n",
       "       'admission_location_INFORMATION NOT AVAILABLE',\n",
       "       'admission_location_INTERNAL TRANSFER TO OR FROM PSYCH',\n",
       "       'admission_location_PACU', 'admission_location_PHYSICIAN REFERRAL',\n",
       "       'admission_location_PROCEDURE SITE',\n",
       "       'admission_location_TRANSFER FROM HOSPITAL',\n",
       "       'admission_location_TRANSFER FROM SKILLED NURSING FACILITY',\n",
       "       'admission_location_WALK-IN/SELF REFERRAL'],\n",
       "      dtype='object')"
      ]
     },
     "execution_count": 19,
     "metadata": {},
     "output_type": "execute_result"
    }
   ],
   "source": [
    "X_train.columns\n"
   ]
  },
  {
   "cell_type": "markdown",
   "id": "f28403b2-f504-428c-a9ba-0ce33ad8d922",
   "metadata": {
    "tags": []
   },
   "source": [
    "## Logistic Regression"
   ]
  },
  {
   "cell_type": "code",
   "execution_count": 20,
   "id": "874557ca-4acf-4491-88b7-4b31d46c715d",
   "metadata": {
    "tags": []
   },
   "outputs": [
    {
     "name": "stdout",
     "output_type": "stream",
     "text": [
      "Logistic Regression Classification Report:\n",
      "               precision    recall  f1-score   support\n",
      "\n",
      "           0       0.98      0.97      0.98    105562\n",
      "           1       0.14      0.18      0.16      2312\n",
      "\n",
      "    accuracy                           0.96    107874\n",
      "   macro avg       0.56      0.58      0.57    107874\n",
      "weighted avg       0.96      0.96      0.96    107874\n",
      "\n"
     ]
    }
   ],
   "source": [
    "# Logistic Regression\n",
    "lr = LogisticRegression(max_iter=1000)\n",
    "lr.fit(X_train, y_train)\n",
    "lr_pred = lr.predict(X_test)\n",
    "print(\"Logistic Regression Classification Report:\\n\", classification_report(y_test, lr_pred))"
   ]
  },
  {
   "cell_type": "markdown",
   "id": "ab782472-d836-4a54-9fb3-218ebcd9b286",
   "metadata": {},
   "source": [
    "## Random Forest Classifier"
   ]
  },
  {
   "cell_type": "code",
   "execution_count": 21,
   "id": "c14e0235-b978-4a9a-813b-68db62b9bc36",
   "metadata": {
    "tags": []
   },
   "outputs": [
    {
     "name": "stdout",
     "output_type": "stream",
     "text": [
      "Random Forest Classification Report:\n",
      "               precision    recall  f1-score   support\n",
      "\n",
      "           0       0.98      0.96      0.97    105562\n",
      "           1       0.10      0.19      0.13      2312\n",
      "\n",
      "    accuracy                           0.95    107874\n",
      "   macro avg       0.54      0.58      0.55    107874\n",
      "weighted avg       0.96      0.95      0.95    107874\n",
      "\n"
     ]
    }
   ],
   "source": [
    "# Random Forest\n",
    "rf = RandomForestClassifier(n_estimators=100, random_state=42)\n",
    "rf.fit(X_train, y_train)\n",
    "rf_pred = rf.predict(X_test)\n",
    "print(\"Random Forest Classification Report:\\n\", classification_report(y_test, rf_pred))"
   ]
  },
  {
   "cell_type": "code",
   "execution_count": 22,
   "id": "6bd0467f-4a60-4e0d-8ab4-152e6e22422f",
   "metadata": {
    "tags": []
   },
   "outputs": [
    {
     "name": "stdout",
     "output_type": "stream",
     "text": [
      "                                              Feature  Permutation Importance\n",
      "0                                          anchor_age                0.021729\n",
      "1                                  insurance_Medicare                0.018122\n",
      "8                                  race_grouped_WHITE                0.012170\n",
      "10                  admission_location_EMERGENCY ROOM                0.010578\n",
      "14              admission_location_PHYSICIAN REFERRAL                0.006928\n",
      "9                                   insurance_Private                0.005154\n",
      "5                          race_grouped_BLACK/AFRICAN                0.004947\n",
      "7                                  race_grouped_OTHER                0.003188\n",
      "18           admission_location_WALK-IN/SELF REFERRAL                0.001965\n",
      "6                               race_grouped_HISPANIC                0.001175\n",
      "4                                            gender_1                0.001096\n",
      "15                  admission_location_PROCEDURE SITE                0.000963\n",
      "3                                     insurance_Other                0.000503\n",
      "17  admission_location_TRANSFER FROM SKILLED NURSI...                0.000487\n",
      "13                            admission_location_PACU                0.000481\n",
      "12  admission_location_INTERNAL TRANSFER TO OR FRO...                0.000313\n",
      "16          admission_location_TRANSFER FROM HOSPITAL                0.000292\n",
      "2                                 insurance_No charge                0.000017\n",
      "11       admission_location_INFORMATION NOT AVAILABLE               -0.000033\n"
     ]
    }
   ],
   "source": [
    "# Feature importance\n",
    "feature_names = list(X_train.columns)\n",
    "\n",
    "# Permutation feature importance\n",
    "from sklearn.inspection import permutation_importance\n",
    "result = permutation_importance(rf, X_test, y_test, n_repeats=10, random_state=0, n_jobs=-1)\n",
    "perm_imp_df = pd.DataFrame({'Feature': feature_names, 'Permutation Importance': result.importances_mean}).sort_values('Permutation Importance', ascending=False)\n",
    "print(perm_imp_df)"
   ]
  },
  {
   "cell_type": "code",
   "execution_count": null,
   "id": "b6ea9ca5-9608-4706-a487-7a978af403fc",
   "metadata": {},
   "outputs": [],
   "source": []
  },
  {
   "cell_type": "code",
   "execution_count": 23,
   "id": "7e8c86da-630c-4086-b654-f7c34e741345",
   "metadata": {
    "tags": []
   },
   "outputs": [
    {
     "name": "stdout",
     "output_type": "stream",
     "text": [
      "Logistic Regression ROC-AUC: 0.77\n",
      "Random Forest ROC-AUC: 0.72\n"
     ]
    }
   ],
   "source": [
    "# ROC-AUC Scores\n",
    "models = {'Logistic Regression': lr, 'Random Forest': rf}\n",
    "for name, clf in models.items():\n",
    "    roc_auc = roc_auc_score(y_test, clf.predict_proba(X_test)[:, 1])\n",
    "    print(f\"{name} ROC-AUC: {roc_auc:.2f}\")\n"
   ]
  },
  {
   "cell_type": "markdown",
   "id": "22301430-c12b-421d-aac9-53ef7f96f947",
   "metadata": {},
   "source": [
    "## LightGBM Classifier"
   ]
  },
  {
   "cell_type": "code",
   "execution_count": 36,
   "id": "39dd49a6-bd18-4a28-9921-8b479dad5d09",
   "metadata": {
    "tags": []
   },
   "outputs": [
    {
     "name": "stderr",
     "output_type": "stream",
     "text": [
      "/anaconda/envs/azureml_py38_PT_TF/lib/python3.10/site-packages/lightgbm/engine.py:204: UserWarning: Found `num_boost_round` in params. Will use it instead of argument\n",
      "  _log_warning(f\"Found `{alias}` in params. Will use it instead of argument\")\n"
     ]
    },
    {
     "name": "stdout",
     "output_type": "stream",
     "text": [
      "[LightGBM] [Warning] Found whitespace in feature_names, replace with underlines\n",
      "[LightGBM] [Info] Number of positive: 7400, number of negative: 33779\n",
      "[LightGBM] [Info] Auto-choosing col-wise multi-threading, the overhead of testing was 0.030436 seconds.\n",
      "You can set `force_col_wise=true` to remove the overhead.\n",
      "[LightGBM] [Info] Total Bins 110\n",
      "[LightGBM] [Info] Number of data points in the train set: 41179, number of used features: 19\n",
      "[LightGBM] [Warning] Found whitespace in feature_names, replace with underlines\n",
      "[LightGBM] [Info] [binary:BoostFromScore]: pavg=0.179703 -> initscore=-1.518359\n",
      "[LightGBM] [Info] Start training from score -1.518359\n",
      "Training until validation scores don't improve for 5 rounds\n",
      "Early stopping, best iteration is:\n",
      "[7]\tvalid_0's auc: 0.776078\tvalid_0's binary_error: 0.0209388\n"
     ]
    }
   ],
   "source": [
    "import lightgbm as lgb\n",
    "params = {\n",
    "    'objective': 'binary',  # or your specific objective\n",
    "    'num_leaves': 31, \n",
    "    'metric': ['auc','binary_error'],  # or your specific evaluation metric\n",
    "    'verbose': 1,  # -1 means no output, you can set to 1 or 2 for verbosity\n",
    "    'num_boost_round' : 1000\n",
    "}\n",
    "\n",
    "lgbm_model = lgb.train(\n",
    "    params,\n",
    "    lgb.Dataset(X_train, label=y_train),\n",
    "    valid_sets=[lgb.Dataset(X_val, label=y_val)],\n",
    "    callbacks=[lgb.early_stopping(stopping_rounds=5)]\n",
    ")"
   ]
  },
  {
   "cell_type": "code",
   "execution_count": 37,
   "id": "ff4dae3b-75e5-4945-ac3f-14aa0baeeb2b",
   "metadata": {
    "tags": []
   },
   "outputs": [
    {
     "data": {
      "text/plain": [
       "hospital_expire_flag\n",
       "0    105562\n",
       "1      2312\n",
       "Name: count, dtype: int64"
      ]
     },
     "execution_count": 37,
     "metadata": {},
     "output_type": "execute_result"
    }
   ],
   "source": [
    "y_test.value_counts(dropna=False)"
   ]
  },
  {
   "cell_type": "code",
   "execution_count": 39,
   "id": "e5b2505f-4675-4c71-ad43-f6327c9e9fdc",
   "metadata": {
    "tags": []
   },
   "outputs": [
    {
     "name": "stdout",
     "output_type": "stream",
     "text": [
      "LightGBM Classification Report:\n",
      "               precision    recall  f1-score   support\n",
      "\n",
      "           0       0.98      1.00      0.99    105562\n",
      "           1       0.70      0.03      0.06      2312\n",
      "\n",
      "    accuracy                           0.98    107874\n",
      "   macro avg       0.84      0.51      0.52    107874\n",
      "weighted avg       0.97      0.98      0.97    107874\n",
      "\n"
     ]
    }
   ],
   "source": [
    "# lgbm_pred = model.predict(X_test)\n",
    "ypred = lgbm_model.predict(X_test, num_iteration=lgbm_model.best_iteration)\n",
    "y_pred_binary = (ypred >= 0.5).astype(int)\n",
    "print(\"LightGBM Classification Report:\\n\", classification_report(y_test.values, y_pred_binary))\n"
   ]
  },
  {
   "cell_type": "code",
   "execution_count": 40,
   "id": "43cbe4a5-87f6-4691-b509-fd78b09ff51b",
   "metadata": {
    "tags": []
   },
   "outputs": [
    {
     "data": {
      "image/png": "[encoded data removed]",
      "text/plain": [
       "<Figure size 700x600 with 1 Axes>"
      ]
     },
     "metadata": {},
     "output_type": "display_data"
    }
   ],
   "source": [
    "# Plot feature importance using Gain\n",
    "lgb.plot_importance(lgbm_model, importance_type=\"gain\", figsize=(7,6), title=\"LightGBM Feature Importance (Gain)\")\n",
    "plt.show()"
   ]
  },
  {
   "cell_type": "code",
   "execution_count": 45,
   "id": "3b92ba22-4219-4141-b900-9189aede5dc8",
   "metadata": {
    "tags": []
   },
   "outputs": [
    {
     "name": "stdout",
     "output_type": "stream",
     "text": [
      "LGBM test auc:0.7731078716658355\n"
     ]
    }
   ],
   "source": [
    "from sklearn.metrics import roc_curve, auc\n",
    "\n",
    "y_pred_proba_lgbm = lgbm_model.predict(X_test, num_iteration=lgbm_model.best_iteration)\n",
    "\n",
    "# Calculate ROC curve\n",
    "\n",
    "fpr, tpr, thresholds = roc_curve(y_test, y_pred_proba_lgbm)\n",
    "\n",
    "# Calculate AUC\n",
    "\n",
    "lgbm_roc_auc = auc(fpr, tpr) \n",
    "print(f'LGBM test auc:{lgbm_roc_auc}')"
   ]
  },
  {
   "cell_type": "code",
   "execution_count": 47,
   "id": "276497cf-6ad7-4a02-8050-78d2356c3fb7",
   "metadata": {
    "tags": []
   },
   "outputs": [
    {
     "data": {
      "image/png": "[encoded data removed]",
      "text/plain": [
       "<Figure size 640x480 with 1 Axes>"
      ]
     },
     "metadata": {},
     "output_type": "display_data"
    }
   ],
   "source": [
    "import matplotlib.pyplot as plt\n",
    "plt.title('Receiver Operating Characteristic')\n",
    "plt.plot(fpr, tpr, 'b', label = 'AUC = %0.2f' % lgbm_roc_auc)\n",
    "plt.legend(loc = 'lower right')\n",
    "plt.plot([0, 1], [0, 1],'r--')\n",
    "plt.xlim([0, 1])\n",
    "plt.ylim([0, 1])\n",
    "plt.ylabel('True Positive Rate')\n",
    "plt.xlabel('False Positive Rate')\n",
    "plt.show()"
   ]
  },
  {
   "cell_type": "markdown",
   "id": "bc967b0f-5984-44f5-9a80-733349ac04df",
   "metadata": {},
   "source": [
    "## Neural Network"
   ]
  },
  {
   "cell_type": "code",
   "execution_count": 27,
   "id": "abc5ed53-a18b-424a-b3d4-d0e5634ca26b",
   "metadata": {
    "tags": []
   },
   "outputs": [],
   "source": [
    "# Neural Network with PyTorch\n",
    "class NeuralNetwork(nn.Module):\n",
    "    def __init__(self, input_size):\n",
    "        super(NeuralNetwork, self).__init__()\n",
    "        self.fc1 = nn.Linear(input_size, 16)\n",
    "        self.dropout1 = nn.Dropout(0.3)\n",
    "        self.fc2 = nn.Linear(16, 4)\n",
    "        self.dropout2 = nn.Dropout(0.3)\n",
    "        self.output = nn.Linear(4, 1)\n",
    "\n",
    "    def forward(self, x):\n",
    "        x = torch.relu(self.fc1(x))\n",
    "        x = self.dropout1(x)\n",
    "        x = torch.relu(self.fc2(x))\n",
    "        x = self.dropout2(x)\n",
    "        x = torch.sigmoid(self.output(x))\n",
    "        return x"
   ]
  },
  {
   "cell_type": "code",
   "execution_count": 28,
   "id": "45de23bb-d0a9-45c7-aeae-74daaa25ead3",
   "metadata": {
    "tags": []
   },
   "outputs": [
    {
     "name": "stdout",
     "output_type": "stream",
     "text": [
      "anchor_age                                                   int64\n",
      "insurance_Medicare                                            bool\n",
      "insurance_No charge                                           bool\n",
      "insurance_Other                                               bool\n",
      "gender_1                                                      bool\n",
      "race_grouped_BLACK/AFRICAN                                    bool\n",
      "race_grouped_HISPANIC                                         bool\n",
      "race_grouped_OTHER                                            bool\n",
      "race_grouped_WHITE                                            bool\n",
      "insurance_Private                                             bool\n",
      "admission_location_EMERGENCY ROOM                             bool\n",
      "admission_location_INFORMATION NOT AVAILABLE                  bool\n",
      "admission_location_INTERNAL TRANSFER TO OR FROM PSYCH         bool\n",
      "admission_location_PACU                                       bool\n",
      "admission_location_PHYSICIAN REFERRAL                         bool\n",
      "admission_location_PROCEDURE SITE                             bool\n",
      "admission_location_TRANSFER FROM HOSPITAL                     bool\n",
      "admission_location_TRANSFER FROM SKILLED NURSING FACILITY     bool\n",
      "admission_location_WALK-IN/SELF REFERRAL                      bool\n",
      "dtype: object\n"
     ]
    }
   ],
   "source": [
    "print(X_train.dtypes)\n"
   ]
  },
  {
   "cell_type": "code",
   "execution_count": 29,
   "id": "c19b8331-80c1-4bde-95f7-baf2514f7fba",
   "metadata": {
    "tags": []
   },
   "outputs": [],
   "source": [
    "X_train = X_train.apply(lambda x: x.astype(int) if x.dtype == 'bool' else x)"
   ]
  },
  {
   "cell_type": "code",
   "execution_count": 30,
   "id": "f1bce9ff-a1dc-4384-ac45-e32cc2e53125",
   "metadata": {
    "tags": []
   },
   "outputs": [
    {
     "name": "stdout",
     "output_type": "stream",
     "text": [
      "anchor_age                                                   int64\n",
      "insurance_Medicare                                           int64\n",
      "insurance_No charge                                          int64\n",
      "insurance_Other                                              int64\n",
      "gender_1                                                     int64\n",
      "race_grouped_BLACK/AFRICAN                                   int64\n",
      "race_grouped_HISPANIC                                        int64\n",
      "race_grouped_OTHER                                           int64\n",
      "race_grouped_WHITE                                           int64\n",
      "insurance_Private                                            int64\n",
      "admission_location_EMERGENCY ROOM                            int64\n",
      "admission_location_INFORMATION NOT AVAILABLE                 int64\n",
      "admission_location_INTERNAL TRANSFER TO OR FROM PSYCH        int64\n",
      "admission_location_PACU                                      int64\n",
      "admission_location_PHYSICIAN REFERRAL                        int64\n",
      "admission_location_PROCEDURE SITE                            int64\n",
      "admission_location_TRANSFER FROM HOSPITAL                    int64\n",
      "admission_location_TRANSFER FROM SKILLED NURSING FACILITY    int64\n",
      "admission_location_WALK-IN/SELF REFERRAL                     int64\n",
      "dtype: object\n"
     ]
    }
   ],
   "source": [
    "print(X_train.dtypes)\n"
   ]
  },
  {
   "cell_type": "code",
   "execution_count": 31,
   "id": "589de242-43c0-46b7-ac6b-8c19a03c8caa",
   "metadata": {
    "tags": []
   },
   "outputs": [],
   "source": [
    "X_val = X_val.apply(lambda x: x.astype(int) if x.dtype == 'bool' else x)\n",
    "X_test = X_test.apply(lambda x: x.astype(int) if x.dtype == 'bool' else x)"
   ]
  },
  {
   "cell_type": "code",
   "execution_count": 32,
   "id": "a0eb0d58-617c-4a5f-ba77-0c5288dd8597",
   "metadata": {
    "tags": []
   },
   "outputs": [],
   "source": [
    "# Prepare data for PyTorch\n",
    "X_train_tensor = torch.tensor(X_train.values, dtype=torch.float32)\n",
    "y_train_tensor = torch.tensor(y_train.values, dtype=torch.float32).view(-1, 1)\n",
    "X_val_tensor = torch.tensor(X_val.values, dtype=torch.float32)\n",
    "y_val_tensor = torch.tensor(y_val.values, dtype=torch.float32).view(-1, 1)\n",
    "X_test_tensor = torch.tensor(X_test.values, dtype=torch.float32)\n",
    "y_test_tensor = torch.tensor(y_test.values, dtype=torch.float32).view(-1, 1)"
   ]
  },
  {
   "cell_type": "code",
   "execution_count": 33,
   "id": "eceb5155-4661-4456-b80e-d613f7012287",
   "metadata": {
    "tags": []
   },
   "outputs": [],
   "source": [
    "# Initialize model, loss function, and optimizer\n",
    "input_size = X_train.shape[1]\n",
    "model = NeuralNetwork(input_size)\n",
    "criterion = nn.BCELoss()\n",
    "optimizer = optim.Adam(model.parameters(), lr=0.001)"
   ]
  },
  {
   "cell_type": "code",
   "execution_count": 34,
   "id": "6816fdaa-e6ba-43ec-b913-832866e3bb7a",
   "metadata": {
    "tags": []
   },
   "outputs": [
    {
     "name": "stdout",
     "output_type": "stream",
     "text": [
      "Epoch 1/20, Validation Loss: 0.2444\n",
      "Epoch 2/20, Validation Loss: 0.2285\n",
      "Epoch 3/20, Validation Loss: 0.2455\n",
      "Epoch 4/20, Validation Loss: 0.2084\n",
      "Epoch 5/20, Validation Loss: 0.2135\n",
      "Epoch 6/20, Validation Loss: 0.2253\n",
      "Epoch 7/20, Validation Loss: 0.2230\n",
      "Epoch 8/20, Validation Loss: 0.2058\n",
      "Epoch 9/20, Validation Loss: 0.2126\n",
      "Epoch 10/20, Validation Loss: 0.2102\n",
      "Epoch 11/20, Validation Loss: 0.2217\n",
      "Epoch 12/20, Validation Loss: 0.2149\n",
      "Epoch 13/20, Validation Loss: 0.1895\n",
      "Epoch 14/20, Validation Loss: 0.2010\n",
      "Epoch 15/20, Validation Loss: 0.2124\n",
      "Epoch 16/20, Validation Loss: 0.2198\n",
      "Epoch 17/20, Validation Loss: 0.1876\n",
      "Epoch 18/20, Validation Loss: 0.2138\n",
      "Epoch 19/20, Validation Loss: 0.2075\n",
      "Epoch 20/20, Validation Loss: 0.1974\n"
     ]
    }
   ],
   "source": [
    "# Training loop\n",
    "epochs = 20\n",
    "batch_size = 32\n",
    "for epoch in range(epochs):\n",
    "    model.train()\n",
    "    permutation = torch.randperm(X_train_tensor.size(0))\n",
    "    for i in range(0, X_train_tensor.size(0), batch_size):\n",
    "        indices = permutation[i:i + batch_size]\n",
    "        batch_x, batch_y = X_train_tensor[indices], y_train_tensor[indices]\n",
    "\n",
    "        optimizer.zero_grad()\n",
    "        outputs = model(batch_x)\n",
    "        loss = criterion(outputs, batch_y)\n",
    "        loss.backward()\n",
    "        optimizer.step()\n",
    "\n",
    "    # Validation\n",
    "    model.eval()\n",
    "    with torch.no_grad():\n",
    "        val_outputs = model(X_val_tensor)\n",
    "        val_loss = criterion(val_outputs, y_val_tensor)\n",
    "    print(f\"Epoch {epoch + 1}/{epochs}, Validation Loss: {val_loss.item():.4f}\")"
   ]
  },
  {
   "cell_type": "code",
   "execution_count": 48,
   "id": "bb7cbab1-d99f-4144-bad8-89dcdb105c22",
   "metadata": {
    "tags": []
   },
   "outputs": [
    {
     "name": "stdout",
     "output_type": "stream",
     "text": [
      "Neural Network Classification Report:\n",
      "               precision    recall  f1-score   support\n",
      "\n",
      "           0       0.98      1.00      0.99    105562\n",
      "           1       0.28      0.01      0.02      2312\n",
      "\n",
      "    accuracy                           0.98    107874\n",
      "   macro avg       0.63      0.50      0.50    107874\n",
      "weighted avg       0.96      0.98      0.97    107874\n",
      "\n",
      "Logistic Regression ROC-AUC: 0.77\n",
      "Random Forest ROC-AUC: 0.72\n",
      "LGBM ROC-AUC: 0.77\n",
      "Neural Network ROC-AUC: 0.77\n"
     ]
    }
   ],
   "source": [
    "# Testing\n",
    "model.eval()\n",
    "with torch.no_grad():\n",
    "    test_outputs = model(X_test_tensor).numpy()\n",
    "    nn_pred = (test_outputs > 0.5).astype(int).flatten()\n",
    "print(\"Neural Network Classification Report:\\n\", classification_report(y_test, nn_pred))\n",
    "\n",
    "# ROC-AUC Scores\n",
    "models = {'Logistic Regression': lr, 'Random Forest': rf}\n",
    "for name, clf in models.items():\n",
    "    roc_auc = roc_auc_score(y_test, clf.predict_proba(X_test)[:, 1])\n",
    "    print(f\"{name} ROC-AUC: {roc_auc:.2f}\")\n",
    "\n",
    "print(f\"LGBM ROC-AUC: {lgbm_roc_auc:.2f}\")\n",
    "    \n",
    "nn_roc_auc = roc_auc_score(y_test, test_outputs)\n",
    "print(f\"Neural Network ROC-AUC: {nn_roc_auc:.2f}\")"
   ]
  },
  {
   "cell_type": "code",
   "execution_count": null,
   "id": "2ffedc71-1daf-4985-b4bd-bd66ac275a29",
   "metadata": {},
   "outputs": [],
   "source": []
  }
 ],
 "metadata": {
  "kernelspec": {
   "display_name": "Python 3.8 - Pytorch and Tensorflow",
   "language": "python",
   "name": "python38-azureml-pt-tf"
  },
  "language_info": {
   "codemirror_mode": {
    "name": "ipython",
    "version": 3
   },
   "file_extension": ".py",
   "mimetype": "text/x-python",
   "name": "python",
   "nbconvert_exporter": "python",
   "pygments_lexer": "ipython3",
   "version": "3.10.14"
  }
 },
 "nbformat": 4,
 "nbformat_minor": 5
}
